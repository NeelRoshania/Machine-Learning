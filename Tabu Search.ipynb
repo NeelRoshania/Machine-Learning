{
 "cells": [
  {
   "cell_type": "markdown",
   "metadata": {},
   "source": [
    "# Tabu Search\n",
    "\n"
   ]
  },
  {
   "cell_type": "markdown",
   "metadata": {},
   "source": [
    "Approach\n",
    "    - The aim of this script is to calculate VIF and determine which features to consider for model training\n",
    "    - No extensive cleaning, outlier, or trend outlier consideration will be done\n",
    "        - The focus is VIF, not neccesarily model performance"
   ]
  },
  {
   "cell_type": "code",
   "execution_count": 5,
   "metadata": {},
   "outputs": [],
   "source": [
    "from ipywidgets import interactive\n",
    "from sklearn.linear_model import LinearRegression\n",
    "import ipywidgets as widgets\n",
    "from IPython.display import display, HTML\n",
    "import matplotlib.pyplot as plt\n",
    "import pandas as pd\n",
    "import seaborn as sns\n",
    "import ipywidgets as widgets"
   ]
  },
  {
   "cell_type": "markdown",
   "metadata": {},
   "source": [
    "# Algorithm"
   ]
  },
  {
   "cell_type": "code",
   "execution_count": 37,
   "metadata": {},
   "outputs": [
    {
     "name": "stdout",
     "output_type": "stream",
     "text": [
      "0.41092390552633773\n",
      "0.5271357033668511\n",
      "0.6060287697340183\n",
      "0.6567142197966315\n",
      "0.6640285637454977\n",
      "0.672328503245404\n",
      "0.6755288109427671\n",
      "0.6776927092635806\n",
      "0.6788956356575084\n"
     ]
    }
   ],
   "source": [
    "import random as rand\n",
    "\n",
    "def generate_unique_combination(n_predictors):\n",
    "    features_considered = []\n",
    "    features_choice = [i for i in range(0, n_predictors, 1)] \n",
    "\n",
    "    # generate a random value to length of features_choice\n",
    "    for i in range(0, 10, 1):\n",
    "        rand_feature = features_choice[rand.randint(0, len(features_choice)-1)]\n",
    "        features_considered.append(rand_feature)\n",
    "        features_choice.remove(rand_feature)\n",
    "        \n",
    "    return features_considered\n",
    "\n",
    "df_optimization = pd.read_csv(\"data/df_optimization.csv\")\n",
    "df_optimization = df_optimization.drop(\"Unnamed: 0\", axis=1)\n",
    "\n",
    "response = \"REVENUE\"\n",
    "df_predictors = df_optimization.loc[:, df_optimization.columns != response]\n",
    "df_response = df_optimization.loc[:, df_optimization.columns == response]\n",
    "\n",
    "# Generate 100 random combinations\n",
    "iterations = 10000\n",
    "max_score = 0\n",
    "best_scores = []\n",
    "best_features = []\n",
    "\n",
    "for i in range(0, iterations, 1):\n",
    "    \n",
    "#     Generate combinations\n",
    "    features_considered = generate_unique_combination(len(df_predictors.columns))\n",
    "    X = df_predictors.iloc[:, features_considered]\n",
    "    rsq_score = LinearRegression().fit(X, df_response).score(X, df_response)\n",
    "    \n",
    "#     max criteria\n",
    "    if rsq_score > max_score:\n",
    "        max_score = rsq_score\n",
    "        print(max_score)\n",
    "        best_scores.append(max_score)\n",
    "        best_features.append(features_considered)"
   ]
  },
  {
   "cell_type": "code",
   "execution_count": 38,
   "metadata": {},
   "outputs": [
    {
     "data": {
      "text/plain": [
       "[0.41092390552633773,\n",
       " 0.5271357033668511,\n",
       " 0.6060287697340183,\n",
       " 0.6567142197966315,\n",
       " 0.6640285637454977,\n",
       " 0.672328503245404,\n",
       " 0.6755288109427671,\n",
       " 0.6776927092635806,\n",
       " 0.6788956356575084]"
      ]
     },
     "execution_count": 38,
     "metadata": {},
     "output_type": "execute_result"
    }
   ],
   "source": [
    "best_scores"
   ]
  },
  {
   "cell_type": "code",
   "execution_count": null,
   "metadata": {},
   "outputs": [],
   "source": []
  }
 ],
 "metadata": {
  "kernelspec": {
   "display_name": "Python 3",
   "language": "python",
   "name": "python3"
  },
  "language_info": {
   "codemirror_mode": {
    "name": "ipython",
    "version": 3
   },
   "file_extension": ".py",
   "mimetype": "text/x-python",
   "name": "python",
   "nbconvert_exporter": "python",
   "pygments_lexer": "ipython3",
   "version": "3.7.3"
  },
  "toc": {
   "base_numbering": 1,
   "nav_menu": {},
   "number_sections": true,
   "sideBar": true,
   "skip_h1_title": false,
   "title_cell": "Table of Contents",
   "title_sidebar": "Contents",
   "toc_cell": false,
   "toc_position": {},
   "toc_section_display": true,
   "toc_window_display": false
  },
  "varInspector": {
   "cols": {
    "lenName": 16,
    "lenType": 16,
    "lenVar": 40
   },
   "kernels_config": {
    "python": {
     "delete_cmd_postfix": "",
     "delete_cmd_prefix": "del ",
     "library": "var_list.py",
     "varRefreshCmd": "print(var_dic_list())"
    },
    "r": {
     "delete_cmd_postfix": ") ",
     "delete_cmd_prefix": "rm(",
     "library": "var_list.r",
     "varRefreshCmd": "cat(var_dic_list()) "
    }
   },
   "types_to_exclude": [
    "module",
    "function",
    "builtin_function_or_method",
    "instance",
    "_Feature"
   ],
   "window_display": false
  }
 },
 "nbformat": 4,
 "nbformat_minor": 2
}
