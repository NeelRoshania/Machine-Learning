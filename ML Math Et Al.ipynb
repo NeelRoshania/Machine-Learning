{
 "cells": [
  {
   "cell_type": "markdown",
   "metadata": {},
   "source": [
    "# Machine Learning Mathematics"
   ]
  },
  {
   "cell_type": "markdown",
   "metadata": {},
   "source": [
    "## Vectors and matrices"
   ]
  },
  {
   "cell_type": "code",
   "execution_count": 12,
   "metadata": {},
   "outputs": [],
   "source": [
    "import numpy as np\n",
    "import random as rand\n",
    "import matplotlib.pyplot as plt"
   ]
  },
  {
   "cell_type": "code",
   "execution_count": 47,
   "metadata": {},
   "outputs": [],
   "source": [
    "v1 = np.array([rand.randint(1, 11) for i in range(1, 3)])\n",
    "v2 = np.array([rand.randint(1, 11) for i in range(1, 3)])\n",
    "m1 = np.matrix([v1, v2])\n",
    "m2 = np.matrix([v2, v1])"
   ]
  },
  {
   "cell_type": "code",
   "execution_count": null,
   "metadata": {},
   "outputs": [],
   "source": []
  },
  {
   "cell_type": "code",
   "execution_count": 31,
   "metadata": {},
   "outputs": [
    {
     "name": "stdout",
     "output_type": "stream",
     "text": [
      "[11  1]\n",
      "[4 6]\n",
      "[15  7]\n",
      "\n",
      "\n",
      "[11  1]\n",
      "[4 6]\n",
      "[44  6]\n"
     ]
    }
   ],
   "source": [
    "# vector addition\n",
    "print(v1)\n",
    "print(v2)\n",
    "print(v1 + v2)\n",
    "\n",
    "# vector scaling\n",
    "print(\"\\n\")\n",
    "print(v1)\n",
    "print(v2)\n",
    "print(v1*v2)"
   ]
  },
  {
   "cell_type": "code",
   "execution_count": 49,
   "metadata": {},
   "outputs": [
    {
     "name": "stdout",
     "output_type": "stream",
     "text": [
      "[[16  7]\n",
      " [16  7]]\n",
      "\n",
      "[[96 40]\n",
      " [88 36]]\n"
     ]
    }
   ],
   "source": [
    "# indexing\n",
    "#     - |i1, j1, k1...n1|\n",
    "#     - |in, jn, kn...nn|\n",
    "\n",
    "# matrix addition\n",
    "print(m1 + m2)\n",
    "print(\"\")\n",
    "\n",
    "# matrix scaling\n",
    "print(m1*m2)\n",
    "\n"
   ]
  },
  {
   "cell_type": "code",
   "execution_count": null,
   "metadata": {},
   "outputs": [],
   "source": []
  }
 ],
 "metadata": {
  "kernelspec": {
   "display_name": "Python 3",
   "language": "python",
   "name": "python3"
  },
  "language_info": {
   "codemirror_mode": {
    "name": "ipython",
    "version": 3
   },
   "file_extension": ".py",
   "mimetype": "text/x-python",
   "name": "python",
   "nbconvert_exporter": "python",
   "pygments_lexer": "ipython3",
   "version": "3.7.3"
  },
  "toc": {
   "base_numbering": 1,
   "nav_menu": {},
   "number_sections": true,
   "sideBar": true,
   "skip_h1_title": false,
   "title_cell": "Table of Contents",
   "title_sidebar": "Contents",
   "toc_cell": false,
   "toc_position": {},
   "toc_section_display": true,
   "toc_window_display": false
  },
  "varInspector": {
   "cols": {
    "lenName": 16,
    "lenType": 16,
    "lenVar": 40
   },
   "kernels_config": {
    "python": {
     "delete_cmd_postfix": "",
     "delete_cmd_prefix": "del ",
     "library": "var_list.py",
     "varRefreshCmd": "print(var_dic_list())"
    },
    "r": {
     "delete_cmd_postfix": ") ",
     "delete_cmd_prefix": "rm(",
     "library": "var_list.r",
     "varRefreshCmd": "cat(var_dic_list()) "
    }
   },
   "types_to_exclude": [
    "module",
    "function",
    "builtin_function_or_method",
    "instance",
    "_Feature"
   ],
   "window_display": true
  }
 },
 "nbformat": 4,
 "nbformat_minor": 2
}
